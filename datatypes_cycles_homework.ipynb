{
 "cells": [
  {
   "cell_type": "markdown",
   "metadata": {},
   "source": [
    "**Задача 1**. Дано слово из латинских букв. Напишите скрипт, который выводит на экран букву из середины слова (если число букв нечетное). Если букв четное число, то на экран выводятся две буквы из середины.  \n",
    "\n",
    "Пример: для 'test' должно выводится 'es', для 'testing' - 't'"
   ]
  },
  {
   "cell_type": "code",
   "execution_count": 29,
   "metadata": {},
   "outputs": [
    {
     "name": "stdout",
     "output_type": "stream",
     "text": [
      "Введите слово: велосипедист\n",
      "ип\n"
     ]
    }
   ],
   "source": [
    "word = str(input(\"Введите слово: \"))\n",
    "lenword = len(word)/2\n",
    "\n",
    "if lenword % 2 == 0:\n",
    "    x = int(lenword-1)\n",
    "    y = x+2\n",
    "    index = word[x:y: ]\n",
    "    print(index)\n",
    "elif lenword > 0:\n",
    "    x = int(lenword-0.5)\n",
    "    index = word[x]\n",
    "    print(index)\n",
    "       "
   ]
  },
  {
   "cell_type": "markdown",
   "metadata": {},
   "source": [
    "**Задача 2**. Мы делаем MVP dating-сервиса, и у нас есть список парней и девушек (их число может варьироваться):"
   ]
  },
  {
   "cell_type": "code",
   "execution_count": 30,
   "metadata": {},
   "outputs": [],
   "source": [
    "boys = ['Peter', 'Alex', 'John', 'Arthur', 'Richard']\n",
    "girls = ['Kate', 'Liza', 'Kira', 'Emma', 'Trisha']"
   ]
  },
  {
   "cell_type": "markdown",
   "metadata": {},
   "source": [
    "Выдвигаем гипотезу: лучшие рекомендации мы получим, если просто отсортируем имена по алфавиту и познакомим людей с одинаковыми индексами после сортировки! \"Познакомить\" пары нам поможет функция zip, а в цикле распакуем zip-объект и выведем информацию в виде:\n",
    "\n",
    "Идеальные пары:  \n",
    "Alex и Emma  \n",
    "Arthur и Kate  \n",
    "John и Kira  \n",
    "Peter и Liza  \n",
    "Richard и Trisha  "
   ]
  },
  {
   "cell_type": "markdown",
   "metadata": {},
   "source": [
    "**Внимание! Если количество людей в списках будет не совпадать, то мы никого знакомить не будет и выведем пользователю предупреждение, что кто-то может остаться без пары!**"
   ]
  },
  {
   "cell_type": "code",
   "execution_count": 52,
   "metadata": {},
   "outputs": [
    {
     "name": "stdout",
     "output_type": "stream",
     "text": [
      "Идеальные пары: \n",
      "Peter и Kate\n",
      "Alex и Liza\n",
      "John и Kira\n",
      "Arthur и Emma\n",
      "Richard и Trisha\n"
     ]
    }
   ],
   "source": [
    "boys = ['Peter', 'Alex', 'John', 'Arthur', 'Richard']\n",
    "girls = ['Kate', 'Liza', 'Kira', 'Emma', 'Trisha']\n",
    "\n",
    "if len(boys) == len(girls):\n",
    "    couple = list(zip(boys,girls))\n",
    "    print(\"Идеальные пары: \")\n",
    "    for people in couple:\n",
    "        print(f'{people[0]} и {people[1]}')\n",
    "else:\n",
    "    print(\"кто-то может остаться без пары!\")"
   ]
  },
  {
   "cell_type": "markdown",
   "metadata": {},
   "source": [
    "**Задача 3**. У нас есть список, содержащий информацию о среднедневной температуре в Фаренгейтах за недельный период по странам.\n",
    "Необходимо написать код, который рассчитает среднюю температуру за неделю в Цельсиях для каждой страны."
   ]
  },
  {
   "cell_type": "code",
   "execution_count": 75,
   "metadata": {},
   "outputs": [
    {
     "name": "stdout",
     "output_type": "stream",
     "text": [
      "Thailand\n",
      " Средняя температура за неделю в Цельсиях\n",
      "23.85714285714285\n",
      "Germany\n",
      " Средняя температура за неделю в Цельсиях\n",
      "13.71428571428571\n",
      "Russia\n",
      " Средняя температура за неделю в Цельсиях\n",
      "3.714285714285717\n",
      "Poland\n",
      " Средняя температура за неделю в Цельсиях\n",
      "11.857142857142856\n"
     ]
    }
   ],
   "source": [
    "countries_temperature = [\n",
    " ['Thailand', [75.2, 77, 78.8, 73.4, 68, 75.2, 77]],\n",
    " ['Germany', [57.2, 55.4, 59, 59, 53.6, 55.4, 57.2]],\n",
    " ['Russia', [35.6, 37.4, 39.2, 41, 42.8, 39.2, 35.6]],\n",
    " ['Poland', [50, 50, 53.6, 57.2, 55.4, 55.4, 51.8]],\n",
    "]\n",
    "\n",
    "for city in countries_temperature :\n",
    "    print(f'{city[0]:}\\n {\"Средняя температура за неделю в Цельсиях\"}')\n",
    "    for temp in countries_temperature:\n",
    "        print((sum(city[1])/len(city[1])-32)*5/9)\n",
    "        break\n",
    "           \n",
    "       \n",
    "        "
   ]
  },
  {
   "cell_type": "markdown",
   "metadata": {},
   "source": [
    "**Задача 4.** Дан поток логов по количеству просмотренных страниц для каждого пользователя. Список отсортирован по ID пользователя. Вам необходимо написать алгоритм, который считает среднее значение просмотров на пользователя. \n",
    "Т. е. надо посчитать отношение суммы всех просмотров к количеству уникальных пользователей."
   ]
  },
  {
   "cell_type": "code",
   "execution_count": 52,
   "metadata": {},
   "outputs": [],
   "source": [
    "stream = [\n",
    "    '2018-01-01,user1,3',\n",
    "    '2018-01-07,user1,4',\n",
    "    '2018-03-29,user1,1',\n",
    "    '2018-04-04,user1,13',\n",
    "    '2018-01-05,user2,7',\n",
    "    '2018-06-14,user3,4',\n",
    "    '2018-07-02,user3,10',\n",
    "    '2018-03-21,user4,19',\n",
    "    '2018-03-22,user4,4',\n",
    "    '2018-04-22,user4,8',\n",
    "    '2018-05-03,user4,9',\n",
    "    '2018-05-11,user4,11',\n",
    "]"
   ]
  },
  {
   "cell_type": "code",
   "execution_count": 66,
   "metadata": {},
   "outputs": [
    {
     "name": "stdout",
     "output_type": "stream",
     "text": [
      "Общая сумма:  3\n",
      "Среднее количество просмотров пользователем 1:  1.0\n",
      "Общая сумма:  7\n",
      "Среднее количество просмотров пользователем 1:  0.7142857142857143\n",
      "Общая сумма:  8\n",
      "Среднее количество просмотров пользователем 1:  0.2142857142857143\n",
      "Общая сумма:  21\n",
      "Среднее количество просмотров пользователем 1:  0.629251700680272\n",
      "Общая сумма:  28\n",
      "Среднее количество просмотров пользователем 2:  0.25\n",
      "Общая сумма:  32\n",
      "Среднее количество просмотров пользователем 3:  0.125\n",
      "Общая сумма:  42\n",
      "Среднее количество просмотров пользователем 3:  0.24107142857142858\n",
      "Общая сумма:  61\n",
      "Среднее количество просмотров пользователем 4:  0.3114754098360656\n",
      "Общая сумма:  65\n",
      "Среднее количество просмотров пользователем 4:  0.06633039092055484\n",
      "Общая сумма:  73\n",
      "Среднее количество просмотров пользователем 4:  0.11049767658795281\n",
      "Общая сумма:  82\n",
      "Среднее количество просмотров пользователем 4:  0.11110363020229211\n",
      "Общая сумма:  93\n",
      "Среднее количество просмотров пользователем 4:  0.11947423258282035\n"
     ]
    }
   ],
   "source": [
    "sum_ = int(0)\n",
    "sum1 = int(0)\n",
    "sum2 = int(0)\n",
    "sum3 = int(0)\n",
    "sum4 = int(0)\n",
    "\n",
    "for view in stream:\n",
    "    view_split = view.split(',')\n",
    "    v= int(view_split[2])\n",
    "    sum_ += v\n",
    "    print(\"Общая сумма: \", sum_)\n",
    "    if 'user1' in view_split:\n",
    "        sum1 = (sum1 + v)/sum_\n",
    "        print(\"Среднее количество просмотров пользователем 1: \",sum1 )\n",
    "    elif 'user2' in view_split:\n",
    "        sum2 = (sum2 + v)/sum_\n",
    "        print(\"Среднее количество просмотров пользователем 2: \",sum2)\n",
    "    elif 'user3' in view_split:\n",
    "        sum3 = (sum3 + v)/sum_\n",
    "        print(\"Среднее количество просмотров пользователем 3: \",sum3)\n",
    "    elif 'user4' in view_split:\n",
    "        sum4 = (sum4 + v)/sum_\n",
    "        print(\"Среднее количество просмотров пользователем 4: \",sum4)\n",
    "    "
   ]
  },
  {
   "cell_type": "markdown",
   "metadata": {},
   "source": [
    "**Задача 5**. Дана статистика рекламных кампаний по дням. Напишите алгоритм, который по паре дата-кампания ищет значение численного столбца. \n",
    "Т. е. для даты '2018-01-01' и 'google' нужно получить число 25. \n",
    "Считайте, что все комбинации дата-кампания уникальны."
   ]
  },
  {
   "cell_type": "code",
   "execution_count": 69,
   "metadata": {},
   "outputs": [
    {
     "name": "stdout",
     "output_type": "stream",
     "text": [
      "2018-01-01 google\n",
      "2018-01-01 yandex\n",
      "2018-01-01 market\n",
      "2018-01-02 google\n",
      "2018-01-02 yandex\n",
      "2018-01-02 market\n",
      "2018-01-03 google\n",
      "2018-01-03 yandex\n",
      "2018-01-03 market\n"
     ]
    }
   ],
   "source": [
    "stats = [\n",
    "    ['2018-01-01', 'google', 25],\n",
    "    ['2018-01-01', 'yandex', 65],\n",
    "    ['2018-01-01', 'market', 89],\n",
    "    ['2018-01-02', 'google', 574],\n",
    "    ['2018-01-02', 'yandex', 249],\n",
    "    ['2018-01-02', 'market', 994],\n",
    "    ['2018-01-03', 'google', 1843],\n",
    "    ['2018-01-03', 'yandex', 1327],\n",
    "    ['2018-01-03', 'market', 1764],\n",
    "]\n",
    "for i in stats:\n",
    "    print(i[0], i[1])"
   ]
  },
  {
   "cell_type": "code",
   "execution_count": 73,
   "metadata": {},
   "outputs": [
    {
     "name": "stdout",
     "output_type": "stream",
     "text": [
      "Введите дату в формате гггг-мм-дд: 2018-01-02\n",
      "Введите название компании строчными буквами: market\n",
      "994\n"
     ]
    }
   ],
   "source": [
    "stats = [\n",
    "    ['2018-01-01', 'google', 25],\n",
    "    ['2018-01-01', 'yandex', 65],\n",
    "    ['2018-01-01', 'market', 89],\n",
    "    ['2018-01-02', 'google', 574],\n",
    "    ['2018-01-02', 'yandex', 249],\n",
    "    ['2018-01-02', 'market', 994],\n",
    "    ['2018-01-03', 'google', 1843],\n",
    "    ['2018-01-03', 'yandex', 1327],\n",
    "    ['2018-01-03', 'market', 1764],\n",
    "]\n",
    "\n",
    "date = input(\"Введите дату в формате гггг-мм-дд: \")\n",
    "company = input(\"Введите название компании строчными буквами: \")\n",
    "for i in stats:\n",
    "    if date==i[0] and company==i[1] in i:\n",
    "        print(i[2])\n",
    "    else:\n",
    "        print(\"Нет соответствий\")"
   ]
  },
  {
   "cell_type": "markdown",
   "metadata": {},
   "source": [
    "**Задача 6**. Дан список вида:"
   ]
  },
  {
   "cell_type": "code",
   "execution_count": 374,
   "metadata": {},
   "outputs": [
    {
     "data": {
      "text/plain": [
       "[13, 53, 34, 35]"
      ]
     },
     "execution_count": 374,
     "metadata": {},
     "output_type": "execute_result"
    }
   ],
   "source": [
    "data = [\n",
    "    [13, 25, 23, 34],\n",
    "    [45, 32, 44, 47],\n",
    "    [12, 33, 23, 95],\n",
    "    [13, 53, 34, 35]\n",
    "]\n",
    "data[3]"
   ]
  },
  {
   "cell_type": "markdown",
   "metadata": {},
   "source": [
    "Напишите код, который будет вычислять сумму элементов на диагонали. Т. е. 13+32+23+35.  \n",
    "Список может быть любой длины, но всегда является \"квадратным\" (количество элементов во вложенных списках равно их количеству)."
   ]
  },
  {
   "cell_type": "code",
   "execution_count": 378,
   "metadata": {
    "scrolled": true
   },
   "outputs": [
    {
     "name": "stdout",
     "output_type": "stream",
     "text": [
      "13 13\n",
      "32 45\n",
      "23 68\n",
      "35 103\n"
     ]
    }
   ],
   "source": [
    "y = -1\n",
    "sum_y = 0\n",
    "for i in data:\n",
    "    y += 1\n",
    "    sum_y += i[y]\n",
    "    print(i[y], sum_y)"
   ]
  },
  {
   "cell_type": "code",
   "execution_count": null,
   "metadata": {},
   "outputs": [],
   "source": []
  }
 ],
 "metadata": {
  "kernelspec": {
   "display_name": "Python 3",
   "language": "python",
   "name": "python3"
  },
  "language_info": {
   "codemirror_mode": {
    "name": "ipython",
    "version": 3
   },
   "file_extension": ".py",
   "mimetype": "text/x-python",
   "name": "python",
   "nbconvert_exporter": "python",
   "pygments_lexer": "ipython3",
   "version": "3.7.4"
  }
 },
 "nbformat": 4,
 "nbformat_minor": 2
}
